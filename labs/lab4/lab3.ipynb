{
 "cells": [
  {
   "cell_type": "markdown",
   "metadata": {},
   "source": [
    "## Part A-3"
   ]
  },
  {
   "cell_type": "code",
   "execution_count": 2,
   "metadata": {},
   "outputs": [],
   "source": [
    "import math\n",
    "import numpy as np\n",
    "\n",
    "def ik(px,py,pz):\n",
    "    # constants\n",
    "    L1 = 15\n",
    "    L2 = 105\n",
    "    L3 = (55.95+57.75)\n",
    "    L4 = 12.31\n",
    "\n",
    "    # swtich to r1 home frame\n",
    "    x_e = px * 1000\n",
    "    y_e = py * 1000 + 98\n",
    "    z_e = pz * 1000 - 100\n",
    "\n",
    "    print(x_e, y_e, z_e)\n",
    "\n",
    "    # theta3\n",
    "    d = math.sqrt(x_e**2 + y_e**2 + z_e**2 - L1**2)\n",
    "    print(L3**2 + L4**2 + L2**2)\n",
    "    print(d)\n",
    "    beta = math.acos((L3**2 + L4**2 + L2**2 - d**2)/(2 * L2 * math.sqrt(L3**2 + L4**2)))\n",
    "    eta = math.atan(L4 / L3)\n",
    "    delta = math.pi - beta\n",
    "    # How do we tell the difference?\n",
    "    print(f\"{math.pi}, beta: {beta}, eta: {eta}\")\n",
    "    theta3_elbow_down = math.pi - beta + eta\n",
    "    theta3_elbow_up = math.pi + beta + eta\n",
    "    theta3_elbow_up = theta3_elbow_up - 2 * math.pi if theta3_elbow_up >= 2 * math.pi - 1e-5 else theta3_elbow_up\n",
    "\n",
    "    # theta2\n",
    "    EB = math.sqrt(x_e**2 + z_e**2)\n",
    "    EC = math.sqrt(L3**2+L4**2) * math.sin(delta)\n",
    "    d = math.sqrt(EB**2 - EC**2)\n",
    "    m = math.sqrt(x_e**2 + y_e**2 + z_e**2 - EC**2)\n",
    "    phi = math.acos(abs(y_e)/m)\n",
    "    alpha = math.acos(L1 / m)\n",
    "    theta2 = -(alpha - phi) # direction of theta2 is opposite\n",
    "\n",
    "    # theta1\n",
    "    CK = math.sqrt(m**2 - L1**2)\n",
    "    DK = L1 * math.tan(theta2)  # When theta2 is negative, DK will be negative, too\n",
    "    DC = CK + DK\n",
    "    print(f\"CK={CK},DK={DK},DC={DC}\")\n",
    "    BO = DC*math.cos(theta2)\n",
    "    AO = math.sqrt(x_e**2 + z_e**2)\n",
    "    print(f\"AO={AO},BO={BO}\")\n",
    "    epsilon = math.acos(BO/AO)\n",
    "    gamma = math.atan(-z_e/x_e)\n",
    "    print(f\"epsilon: {epsilon*180/np.pi}, gamma: {gamma*180/np.pi}\")\n",
    "    theta1_elbow_up = -epsilon + gamma\n",
    "    theta1_elbow_down = epsilon + gamma # direction of theta1 is opposite\n",
    "\n",
    "    return [theta1_elbow_down, theta2, theta3_elbow_down]"
   ]
  },
  {
   "cell_type": "markdown",
   "metadata": {},
   "source": [
    "## Part A-4"
   ]
  },
  {
   "cell_type": "code",
   "execution_count": 3,
   "metadata": {},
   "outputs": [],
   "source": [
    "def PoE_3D(theta1, theta2, theta3):\n",
    "    M = np.array([\n",
    "        [1, 0, 0, (105 + 55.95 + 57.75)/1000],\n",
    "        [0, 1, 0, (-98 + (-15))/1000],\n",
    "        [0, 0, 1, (100 - 12.31)/1000],\n",
    "        [0, 0, 0, 1]\n",
    "    ])\n",
    "    omega_1 = np.array([0,1,0])\n",
    "    omega_2 = np.array([0,0,1])\n",
    "    omega_3 = np.array([0,-1,0])\n",
    "\n",
    "    q_1 = np.array([0,-98,100])/1000\n",
    "    q_2 = np.array([0,-98,100])/1000\n",
    "    q_3 = np.array([105,-113,100])/1000\n",
    "\n",
    "    v_1 = - np.cross(omega_1,q_1)\n",
    "    v_2 = - np.cross(omega_2,q_2) \n",
    "    v_3 = - np.cross(omega_3,q_3) \n",
    "    \n",
    "    S1 = mr.MatrixExp6(mr.VecTose3(np.concatenate((omega_1,v_1),axis=0))*theta1)\n",
    "    S2 = mr.MatrixExp6(mr.VecTose3(np.concatenate((omega_2,v_2),axis=0))*theta2)\n",
    "    S3 = mr.MatrixExp6(mr.VecTose3(np.concatenate((omega_3,v_3),axis=0))*theta3)\n",
    "\n",
    "    T_05 = S1.dot(S2).dot(S3).dot(M)\n",
    "    return T_05"
   ]
  },
  {
   "cell_type": "code",
   "execution_count": 126,
   "metadata": {},
   "outputs": [
    {
     "data": {
      "text/plain": [
       "array([[ 0.45476947,  0.29619813, -0.83991154,  0.14305238],\n",
       "       [-0.29619813,  0.93969262,  0.17101007, -0.18379037],\n",
       "       [ 0.83991154,  0.17101007,  0.51507684,  0.23592606],\n",
       "       [ 0.        ,  0.        ,  0.        ,  1.        ]])"
      ]
     },
     "execution_count": 126,
     "metadata": {},
     "output_type": "execute_result"
    }
   ],
   "source": [
    "PoE_3D(-30*np.pi/180,-20*np.pi/180,30*np.pi/180)"
   ]
  },
  {
   "cell_type": "code",
   "execution_count": 115,
   "metadata": {},
   "outputs": [],
   "source": [
    "import modern_robotics as mr\n",
    "\n",
    "# Initial configuraiton (0, 0, 7)\n",
    "Xstart = PoE_3D(0,0,7*np.pi/180)\n",
    "#（-30，0， 7）\n",
    "X1 = PoE_3D(-30*np.pi/180,0,7*np.pi/180)\n",
    "# (-30, -20, 7)\n",
    "X2 = PoE_3D(-30*np.pi/180,-20*np.pi/180,7*np.pi/180)\n",
    "# (-30, -30, 20)\n",
    "X3 = PoE_3D(-30*np.pi/180,-30*np.pi/180,20*np.pi/180)\n",
    "# (-30,-20, 30)\n",
    "Xend = PoE_3D(-30*np.pi/180,-20*np.pi/180,30*np.pi/180)\n",
    "\n",
    "Xs = [Xstart, X1, X2, X3, Xend]\n",
    "Tf = 5\n",
    "N = 50\n",
    "method = 5\n",
    "\n",
    "traj = []\n",
    "for i in range(4):\n",
    "    traj = traj + mr.CartesianTrajectory(Xs[i], Xs[i+1], Tf, N, method)\n"
   ]
  },
  {
   "cell_type": "code",
   "execution_count": 122,
   "metadata": {},
   "outputs": [],
   "source": [
    "X = []\n",
    "Y = []\n",
    "Z = []\n",
    "\n",
    "for i in range(len(traj)):\n",
    "    X.append(traj[i][:,3][0])\n",
    "    Y.append(traj[i][:,3][1])\n",
    "    Z.append(traj[i][:,3][2])"
   ]
  },
  {
   "cell_type": "code",
   "execution_count": null,
   "metadata": {},
   "outputs": [],
   "source": [
    "print([X,Y,Z])"
   ]
  },
  {
   "cell_type": "code",
   "execution_count": 72,
   "metadata": {},
   "outputs": [],
   "source": [
    "from mpl_toolkits import mplot3d\n",
    "%matplotlib inline\n",
    "import numpy as np\n",
    "import matplotlib.pyplot as plt"
   ]
  },
  {
   "cell_type": "code",
   "execution_count": 127,
   "metadata": {},
   "outputs": [],
   "source": [
    "a_file = open(\"Lab3_Trajectory.txt\", \"w\")\n",
    "np.savetxt(a_file, [X,Y,Z])\n",
    "a_file.close()"
   ]
  },
  {
   "cell_type": "code",
   "execution_count": 19,
   "metadata": {},
   "outputs": [],
   "source": [
    "loaded_trajectory = np.loadtxt(\"Lab3_Trajectory.txt\")"
   ]
  },
  {
   "cell_type": "code",
   "execution_count": 25,
   "metadata": {},
   "outputs": [],
   "source": [
    "lines = []\n",
    "with open(\"Lab3_Trajectory.txt\") as textFile:\n",
    "    lines = [line.split() for line in textFile]"
   ]
  },
  {
   "cell_type": "code",
   "execution_count": 128,
   "metadata": {},
   "outputs": [
    {
     "data": {
      "image/png": "[encoded data removed]",
      "text/plain": [
       "<Figure size 432x288 with 1 Axes>"
      ]
     },
     "metadata": {
      "needs_background": "light"
     },
     "output_type": "display_data"
    }
   ],
   "source": [
    "ax = plt.axes(projection='3d')\n",
    "\n",
    "# Data for a three-dimensional line\n",
    "zline = np.linspace(0, 0.3, 100)\n",
    "xline = np.linspace(0, 0.3, 100)\n",
    "yline = np.linspace(0, 0.3, 100)\n",
    "ax.plot3D(xline, yline, zline, 'gray')\n",
    "\n",
    "# Data for three-dimensional scattered points\n",
    "ax.scatter3D(X, Y, Z, cmap='Greens');"
   ]
  },
  {
   "cell_type": "markdown",
   "metadata": {},
   "source": [
    "## Part A-5"
   ]
  },
  {
   "cell_type": "code",
   "execution_count": null,
   "metadata": {},
   "outputs": [],
   "source": [
    "trj_joints1 = []\n",
    "for i in range(200):\n",
    "    x = X[i]\n",
    "    y = Y[i]\n",
    "    z = Z[i]\n",
    "    print(f\"(i={i}:{x},{y},{z})\")\n",
    "    thetas = ik(x,y,z)\n",
    "    print(f\"(i={i}:{x},{y},{z},{[xt*180/np.pi for xt in thetas]}\")\n",
    "    trj_joints1.append(thetas)\n"
   ]
  },
  {
   "cell_type": "code",
   "execution_count": 31,
   "metadata": {},
   "outputs": [],
   "source": [
    "import modern_robotics as mr\n",
    "import math\n",
    "def MyJaco(thetalist):\n",
    "    t1, t2 = thetalist[0], thetalist[1]\n",
    "    J1 = np.array([0, 1, 0, -100, 0, 0])\n",
    "    J2 = np.array([np.sin(t1), 0, np.cos(t1), -98*np.cos(t1), 100*np.sin(t1), 98*np.sin(t1)])\n",
    "    J3 = np.array([np.cos(t1)*np.sin(t2), -np.cos(t2), -np.sin(t1)*np.sin(t2), -105*np.sin(t1)+98*np.sin(t1)*np.sin(t2)+100*np.cos(t2), 100*np.cos(t1)*np.sin(t2), -105*np.cos(t1) + 98*np.cos(t1)*np.sin(t2)])\n",
    "    return np.array([J1, J2, J3]).T"
   ]
  },
  {
   "cell_type": "code",
   "execution_count": 32,
   "metadata": {},
   "outputs": [
    {
     "data": {
      "text/plain": [
       "array([[ 0.00000000e+00,  6.42787610e-01,  7.64178397e-01],\n",
       "       [ 1.00000000e+00,  0.00000000e+00,  6.97564737e-02],\n",
       "       [ 0.00000000e+00,  7.66044443e-01, -6.41221811e-01],\n",
       "       [-1.00000000e+02, -7.50723554e+01, -1.16286089e+01],\n",
       "       [ 0.00000000e+00,  6.42787610e+01,  7.64178397e+01],\n",
       "       [ 0.00000000e+00,  6.29931857e+01, -5.54518359e+00]])"
      ]
     },
     "execution_count": 32,
     "metadata": {},
     "output_type": "execute_result"
    }
   ],
   "source": [
    "S1 = np.array([0, 1, 0, -100, 0, 0])\n",
    "S2 = np.array([0, 0, 1, -98, 0, 0])\n",
    "S3 = np.array([0, -1, 0, 100, 0, -105])\n",
    "thetalist = np.array([40, 454, 10])\n",
    "thetalist = thetalist * np.pi / 180\n",
    "\n",
    "mr.JacobianSpace(np.array([S1, S2, S3]).T, thetalist)\n",
    "MyJaco(thetalist)"
   ]
  },
  {
   "cell_type": "code",
   "execution_count": 33,
   "metadata": {},
   "outputs": [
    {
     "data": {
      "text/plain": [
       "array([[ 0.00000000e+00,  6.42787610e-01,  7.64178397e-01],\n",
       "       [ 1.00000000e+00,  0.00000000e+00,  6.97564737e-02],\n",
       "       [ 0.00000000e+00,  7.66044443e-01, -6.41221811e-01],\n",
       "       [-1.00000000e+02, -7.50723554e+01, -1.16286089e+01],\n",
       "       [ 0.00000000e+00,  6.42787610e+01,  7.64178397e+01],\n",
       "       [ 0.00000000e+00,  6.29931857e+01, -5.54518359e+00]])"
      ]
     },
     "execution_count": 33,
     "metadata": {},
     "output_type": "execute_result"
    }
   ],
   "source": [
    "MyJaco(thetalist)"
   ]
  },
  {
   "cell_type": "code",
   "execution_count": 37,
   "metadata": {},
   "outputs": [
    {
     "name": "stdout",
     "output_type": "stream",
     "text": [
      "[[ True  True  True]\n",
      " [ True  True  True]\n",
      " [ True  True  True]\n",
      " [ True  True  True]\n",
      " [ True  True  True]\n",
      " [ True  True  True]]\n",
      "================\n",
      "[[ True  True  True]\n",
      " [ True  True  True]\n",
      " [ True  True  True]\n",
      " [ True  True  True]\n",
      " [ True  True  True]\n",
      " [ True  True  True]]\n",
      "================\n",
      "[[ True  True  True]\n",
      " [ True  True  True]\n",
      " [ True  True  True]\n",
      " [ True  True  True]\n",
      " [ True  True  True]\n",
      " [ True  True  True]]\n",
      "================\n",
      "[[ True  True  True]\n",
      " [ True  True  True]\n",
      " [ True  True  True]\n",
      " [ True  True  True]\n",
      " [ True  True  True]\n",
      " [ True  True  True]]\n",
      "================\n"
     ]
    }
   ],
   "source": [
    "for i in range(4):\n",
    "    thetalist = np.random.uniform(0, 2*np.pi, (3, ))\n",
    "    Jexp = mr.JacobianSpace(np.array([S1, S2, S3]).T, thetalist)\n",
    "    Jact = MyJaco(thetalist)\n",
    "    # print(Jexp)\n",
    "    # print(Jact)\n",
    "    print(np.isclose(Jexp, Jact))\n",
    "    print(\"================\")"
   ]
  },
  {
   "cell_type": "code",
   "execution_count": null,
   "metadata": {},
   "outputs": [],
   "source": []
  }
 ],
 "metadata": {
  "kernelspec": {
   "display_name": "Python 3.10.4 64-bit",
   "language": "python",
   "name": "python3"
  },
  "language_info": {
   "codemirror_mode": {
    "name": "ipython",
    "version": 3
   },
   "file_extension": ".py",
   "mimetype": "text/x-python",
   "name": "python",
   "nbconvert_exporter": "python",
   "pygments_lexer": "ipython3",
   "version": "3.10.4"
  },
  "orig_nbformat": 4,
  "vscode": {
   "interpreter": {
    "hash": "1f8e04c1004ae0e48c4c128aee02bb34a41f967cffe60616a1dbeccdbed98bf0"
   }
  }
 },
 "nbformat": 4,
 "nbformat_minor": 2
}
